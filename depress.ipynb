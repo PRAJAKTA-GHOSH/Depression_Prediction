{
 "cells": [
  {
   "cell_type": "code",
   "execution_count": 1,
   "metadata": {},
   "outputs": [],
   "source": [
    "import pandas as pd\n",
    "import numpy as np\n",
    "from sklearn.model_selection import train_test_split\n",
    "from sklearn.tree import DecisionTreeClassifier\n",
    "import pickle\n",
    "\n",
    "# Loading the dataset\n",
    "data = pd.read_csv('scores.csv')\n",
    "\n",
    "# Preprocessing the data\n",
    "data = data.replace('NA', np.nan)\n",
    "data['age'] = data['age'].apply(lambda x: (int(x.split('-')[0]) + int(x.split('-')[1])) / 2 if pd.notnull(x) else np.nan)\n",
    "data['edu'] = data['edu'].map({\"6-10\": 8, \"11-15\": 13, \"16-20\": 18})\n",
    "data['marriage'] = data['marriage'].astype(float)\n",
    "\n",
    "# Defining the features and target\n",
    "features = ['days', 'gender', 'age', 'afftype', 'melanch', 'inpatient', 'edu', 'marriage', 'work', 'madrs1', 'madrs2']\n",
    "target = 'number'  # Update this to the correct target variable if 'number' is not your target\n",
    "\n",
    "X = data[features]\n",
    "y = data[target]  # Update this to the correct target variable if 'number' is not your target\n",
    "\n",
    "# Handling the categorical variables\n",
    "X = pd.get_dummies(X, columns=['gender', 'afftype', 'melanch', 'inpatient', 'edu', 'marriage', 'work'], drop_first=True)\n",
    "\n",
    "# Filling the missing values\n",
    "X = X.fillna(X.mean())\n",
    "\n",
    "# Spliting the data\n",
    "X_train, X_test, y_train, y_test = train_test_split(X, y, test_size=0.2, random_state=42)\n",
    "\n",
    "# Training the model\n",
    "model = DecisionTreeClassifier()\n",
    "model.fit(X_train, y_train)\n",
    "\n",
    "# Saving the model \n",
    "with open('model_decision_tree.pkl', 'wb') as file:\n",
    "    pickle.dump((model, X.columns.tolist()), file)\n"
   ]
  }
 ],
 "metadata": {
  "kernelspec": {
   "display_name": "Python 3",
   "language": "python",
   "name": "python3"
  },
  "language_info": {
   "codemirror_mode": {
    "name": "ipython",
    "version": 3
   },
   "file_extension": ".py",
   "mimetype": "text/x-python",
   "name": "python",
   "nbconvert_exporter": "python",
   "pygments_lexer": "ipython3",
   "version": "3.11.4"
  }
 },
 "nbformat": 4,
 "nbformat_minor": 2
}
